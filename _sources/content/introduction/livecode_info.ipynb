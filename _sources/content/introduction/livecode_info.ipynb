{
 "cells": [
  {
   "cell_type": "markdown",
   "id": "85b89601",
   "metadata": {},
   "source": [
    "# Ejecución de códigos \n",
    "\n",
    "Para ejecutar los códigos incluidos en los capítulos de este libro virtual, siga las instrucciones específicas de cada capítulo y las indicaciones generales a continuación:\n",
    "1. Colocar el cursor sobre el ícono 🚀, ubicado en la la parte superior de la página\n",
    "2. Haga clic en la opción ▶️ `Live Code`.\n",
    "3. Ejecute las celdas de código que desee probar."
   ]
  }
 ],
 "metadata": {
  "jupytext": {
   "formats": "md:myst",
   "text_representation": {
    "extension": ".md",
    "format_name": "myst",
    "format_version": 0.13,
    "jupytext_version": "1.11.5"
   }
  },
  "kernelspec": {
   "display_name": "Python 3",
   "language": "python",
   "name": "python3"
  },
  "language_info": {
   "codemirror_mode": {
    "name": "ipython",
    "version": 3
   },
   "file_extension": ".py",
   "mimetype": "text/x-python",
   "name": "python",
   "nbconvert_exporter": "python",
   "pygments_lexer": "ipython3",
   "version": "3.10.4"
  },
  "source_map": [
   13
  ]
 },
 "nbformat": 4,
 "nbformat_minor": 5
}